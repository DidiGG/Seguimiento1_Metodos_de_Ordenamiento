{
 "cells": [
  {
   "cell_type": "markdown",
   "metadata": {},
   "source": [
    "Cargamos dataframe"
   ]
  },
  {
   "cell_type": "code",
   "execution_count": 3,
   "metadata": {},
   "outputs": [
    {
     "name": "stdout",
     "output_type": "stream",
     "text": [
      "                                              Título  \\\n",
      "0  STEAM, PROJETOS E O PENSAMENTO COMPUTACIONAL N...   \n",
      "1  The SNS-based E-mentoring and Development of C...   \n",
      "2  Effects of a teacher development program on te...   \n",
      "3  Classroom Play and Activities to Support Compu...   \n",
      "4  How a Rubric Score Application Empowers Teache...   \n",
      "\n",
      "                                             Autores  \\\n",
      "0  de Almeida Rosa, Thais; de Lima Terçariol, Adr...   \n",
      "1  Yeonju Jang; Seongyune Choi; Seonghun Kim; Hye...   \n",
      "2                        Kong, Siu‐Cheung; Lai, Ming   \n",
      "3        Lee, Joohi; Joswick, Candace; Pole, Kathryn   \n",
      "4  Dimos, Ioannis; Velaora, Chrysoula; Louvaris, ...   \n",
      "\n",
      "                                     Revista         ISSN Fecha Publicacion  \\\n",
      "0                 Eccos - Revista Científica  =\"15171949\"    =\"abr-jun2023\"   \n",
      "1           Educational Technology & Society  =\"11763647\"        =\"Apr2023\"   \n",
      "2  British Journal of Educational Technology  =\"00071013\"        =\"Mar2023\"   \n",
      "3          Early Childhood Education Journal  =\"10823301\"        =\"Mar2023\"   \n",
      "4                    Information (2078-2489)  =\"20782489\"        =\"Feb2023\"   \n",
      "\n",
      "                              DOI  \\\n",
      "0         10.5585/eccos.n65.24626   \n",
      "1  10.30191/ETS.202304_26(2).0011   \n",
      "2              10.1111/bjet.13256   \n",
      "3      10.1007/s10643-022-01319-0   \n",
      "4            10.3390/info14020118   \n",
      "\n",
      "                                      Palabras Clave Volumen Asunto  \\\n",
      "0  basic education; computational thinking; eleme...     NaN     65   \n",
      "1  Computational thinking; Computational thinking...    26.0      2   \n",
      "2  collaborative engagement; computational thinki...    54.0      2   \n",
      "3  Algorithm; Computational thinking (CT); CT pra...    51.0      3   \n",
      "4  application; computational thinking; descripti...    14.0      2   \n",
      "\n",
      "  Primera Pagina  Paginas                                          Publisher  \\\n",
      "0              1     21.0                         Eccos - Revista Cientifica   \n",
      "1            147     18.0  International Forum of Educational Technology ...   \n",
      "2            489     24.0                                    Wiley-Blackwell   \n",
      "3            457     12.0                                    Springer Nature   \n",
      "4            118     20.0                                               MDPI   \n",
      "\n",
      "      Tipo                                           Abstract  \\\n",
      "0  Article  This article is an excerpt from a dissertation...   \n",
      "1  Article  Given the importance of digital technology in ...   \n",
      "2  Article  An important educational goal for the next gen...   \n",
      "3  Article  This is a conceptual paper based on existing l...   \n",
      "4  Article  Computational Thinking (CT) has emerged as an ...   \n",
      "\n",
      "                                                Link  \n",
      "0  https://crai.referencistas.com/login?url=https...  \n",
      "1  https://crai.referencistas.com/login?url=https...  \n",
      "2  https://crai.referencistas.com/login?url=https...  \n",
      "3  https://crai.referencistas.com/login?url=https...  \n",
      "4  https://crai.referencistas.com/login?url=https...  \n"
     ]
    }
   ],
   "source": [
    "import pandas as pd\n",
    "base_unificada = r'C:\\Users\\nicof\\Documents\\GitHub\\StorifMusic\\Seguimiento1_Metodos_de_Ordenamiento'\n",
    "\n",
    "df = pd.read_csv(base_unificada)\n",
    "\n",
    "print(df.head())"
   ]
  }
 ],
 "metadata": {
  "kernelspec": {
   "display_name": "Python 3",
   "language": "python",
   "name": "python3"
  },
  "language_info": {
   "codemirror_mode": {
    "name": "ipython",
    "version": 3
   },
   "file_extension": ".py",
   "mimetype": "text/x-python",
   "name": "python",
   "nbconvert_exporter": "python",
   "pygments_lexer": "ipython3",
   "version": "3.12.5"
  }
 },
 "nbformat": 4,
 "nbformat_minor": 2
}
