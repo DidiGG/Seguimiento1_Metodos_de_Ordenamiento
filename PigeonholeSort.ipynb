{
 "cells": [
  {
   "cell_type": "code",
   "execution_count": 23,
   "metadata": {},
   "outputs": [
    {
     "name": "stdout",
     "output_type": "stream",
     "text": [
      "                                              Título  \\\n",
      "0  STEAM, PROJETOS E O PENSAMENTO COMPUTACIONAL N...   \n",
      "1  The SNS-based E-mentoring and Development of C...   \n",
      "2  Effects of a teacher development program on te...   \n",
      "3  Classroom Play and Activities to Support Compu...   \n",
      "4  How a Rubric Score Application Empowers Teache...   \n",
      "\n",
      "                                             Autores  \\\n",
      "0  de Almeida Rosa, Thais; de Lima Terçariol, Adr...   \n",
      "1  Yeonju Jang; Seongyune Choi; Seonghun Kim; Hye...   \n",
      "2                        Kong, Siu‐Cheung; Lai, Ming   \n",
      "3        Lee, Joohi; Joswick, Candace; Pole, Kathryn   \n",
      "4  Dimos, Ioannis; Velaora, Chrysoula; Louvaris, ...   \n",
      "\n",
      "                                     Revista         ISSN Fecha Publicacion  \\\n",
      "0                 Eccos - Revista Científica  =\"15171949\"    =\"abr-jun2023\"   \n",
      "1           Educational Technology & Society  =\"11763647\"        =\"Apr2023\"   \n",
      "2  British Journal of Educational Technology  =\"00071013\"        =\"Mar2023\"   \n",
      "3          Early Childhood Education Journal  =\"10823301\"        =\"Mar2023\"   \n",
      "4                    Information (2078-2489)  =\"20782489\"        =\"Feb2023\"   \n",
      "\n",
      "                              DOI  \\\n",
      "0         10.5585/eccos.n65.24626   \n",
      "1  10.30191/ETS.202304_26(2).0011   \n",
      "2              10.1111/bjet.13256   \n",
      "3      10.1007/s10643-022-01319-0   \n",
      "4            10.3390/info14020118   \n",
      "\n",
      "                                      Palabras Clave Volumen Asunto  \\\n",
      "0  basic education; computational thinking; eleme...     NaN     65   \n",
      "1  Computational thinking; Computational thinking...    26.0      2   \n",
      "2  collaborative engagement; computational thinki...    54.0      2   \n",
      "3  Algorithm; Computational thinking (CT); CT pra...    51.0      3   \n",
      "4  application; computational thinking; descripti...    14.0      2   \n",
      "\n",
      "  Primera Pagina  Paginas                                          Publisher  \\\n",
      "0              1     21.0                         Eccos - Revista Cientifica   \n",
      "1            147     18.0  International Forum of Educational Technology ...   \n",
      "2            489     24.0                                    Wiley-Blackwell   \n",
      "3            457     12.0                                    Springer Nature   \n",
      "4            118     20.0                                               MDPI   \n",
      "\n",
      "      Tipo                                           Abstract  \\\n",
      "0  Article  This article is an excerpt from a dissertation...   \n",
      "1  Article  Given the importance of digital technology in ...   \n",
      "2  Article  An important educational goal for the next gen...   \n",
      "3  Article  This is a conceptual paper based on existing l...   \n",
      "4  Article  Computational Thinking (CT) has emerged as an ...   \n",
      "\n",
      "                                                Link  \n",
      "0  https://crai.referencistas.com/login?url=https...  \n",
      "1  https://crai.referencistas.com/login?url=https...  \n",
      "2  https://crai.referencistas.com/login?url=https...  \n",
      "3  https://crai.referencistas.com/login?url=https...  \n",
      "4  https://crai.referencistas.com/login?url=https...  \n"
     ]
    }
   ],
   "source": [
    "import pandas as pd\n",
    "base_unificada = r'C:\\Users\\nicof\\Documents\\Seguimiento1_Metodos_de_Ordenamiento\\bases_unificadas_ok.csv'\n",
    "\n",
    "df = pd.read_csv(base_unificada)\n",
    "\n",
    "print(df.head())"
   ]
  },
  {
   "cell_type": "code",
   "execution_count": 24,
   "metadata": {},
   "outputs": [],
   "source": [
    "import time"
   ]
  },
  {
   "cell_type": "markdown",
   "metadata": {},
   "source": [
    "ISSN"
   ]
  },
  {
   "cell_type": "code",
   "execution_count": 28,
   "metadata": {},
   "outputs": [
    {
     "name": "stdout",
     "output_type": "stream",
     "text": [
      "   Execution Time (seconds)  Data Size\n",
      "0                  3.057560       7713\n",
      "1                  3.077368       7713\n",
      "2                  3.123434       7713\n",
      "3                  3.025706       7713\n",
      "Cantidad de datos ordenados:  7713\n"
     ]
    }
   ],
   "source": [
    "def convert_issn_to_number(issn):\n",
    "    # Eliminamos los caracteres no numéricos\n",
    "    issn_number = ''.join(filter(str.isdigit, str(issn)))\n",
    "    return int(issn_number) if issn_number else 0\n",
    "\n",
    "# Aplicar la función de conversión a la columna ISSN\n",
    "df['ISSN_Num'] = df['ISSN'].apply(convert_issn_to_number)\n",
    "\n",
    "# Implementación del algoritmo Pigeonhole Sort\n",
    "def pigeonhole_sort(a): # Encontrar el valor mínimo y máximo de la lista para definir el rango\n",
    "    my_min = min(a) # Valor mínimo\n",
    "    my_max = max(a) # Valor máximo\n",
    "    size = my_max - my_min + 1 # Calcular el tamaño del rango de valores (cantidad de \"agujeros\")\n",
    "    holes = [0] * size  # Crear una lista de \"agujeros\", donde cada índice representa un valor, este inicia en 0\n",
    "\n",
    "# Distribuir los elementos de la lista original en los agujeros\n",
    "    for x in a:\n",
    "        holes[x - my_min] += 1 # Para cada valor x, se incrementa el contador en su agujero correspondiente\n",
    "                               # Se usa 'x - my_min' para obtener la posición relativa del valor\n",
    "\n",
    "# Volver a reconstruir la lista 'a' en orden ascendente usando los agujeros\n",
    "    i = 0 # Índice para la lista original\n",
    "    for count in range(size):  # Iterar sobre cada agujero\n",
    "        # Mientras haya elementos en el agujero (contador > 0)\n",
    "        while holes[count] > 0:\n",
    "            # Colocar el valor original en la lista 'a'\n",
    "            a[i] = count + my_min # Reconvertir la posición del agujero al valor original\n",
    "            holes[count] -= 1     # Reducir el contador del agujero\n",
    "            i += 1                # Avanzar al siguiente índice de la lista\n",
    "\n",
    "# Medir el tiempo de ejecución de Pigeonhole Sort en 4 ejecuciones\n",
    "execution_times = []\n",
    "for _ in range(4):\n",
    "    # Copiar los datos de la columna ISSN_Num para no modificar el original\n",
    "    issn_list = df['ISSN_Num'].tolist()\n",
    "\n",
    "    # Medir el tiempo de ejecución\n",
    "    start_time = time.time()\n",
    "    pigeonhole_sort(issn_list)\n",
    "    end_time = time.time()\n",
    "\n",
    "    # Guardar el tiempo de ejecución\n",
    "    execution_times.append(end_time - start_time)\n",
    "\n",
    "# Guardar los tiempos de ejecución y el tamaño de los datos\n",
    "execution_summary = pd.DataFrame({\n",
    "    'Execution Time (seconds)': execution_times,\n",
    "    'Data Size': [len(df)] * 4  # Mismo tamaño de datos en las 4 ejecuciones\n",
    "})\n",
    "\n",
    "# Mostrar el resumen de tiempos y cantidad de datos ordenados\n",
    "print(execution_summary)\n",
    "print(\"Cantidad de datos ordenados: \", len(issn_list))"
   ]
  },
  {
   "cell_type": "markdown",
   "metadata": {},
   "source": [
    "Autor"
   ]
  },
  {
   "cell_type": "code",
   "execution_count": 27,
   "metadata": {},
   "outputs": [
    {
     "name": "stdout",
     "output_type": "stream",
     "text": [
      "   Execution Time (seconds)  Data Size\n",
      "0                  0.004109       7713\n",
      "1                  0.003222       7713\n",
      "2                  0.003410       7713\n",
      "3                  0.005621       7713\n"
     ]
    }
   ],
   "source": [
    "import string\n",
    "# Función para convertir el autor a una clave numérica basada en el primer carácter alfabético\n",
    "def convert_author_to_key(author):\n",
    "    try:\n",
    "        # Filtrar el primer carácter alfabético en minúscula\n",
    "        first_char = next((char.lower() for char in author if char.isalpha()), 'a')\n",
    "        # Convertir el primer carácter a un valor entre 0 y 25 (para las letras del alfabeto)\n",
    "        return ord(first_char) - ord('a')\n",
    "    except:\n",
    "        return 0  # En caso de error o valor nulo\n",
    "\n",
    "# Limpiar y convertir la columna \"Autores\" a claves numéricas\n",
    "df['Author_Key'] = df['Autores'].apply(convert_author_to_key)\n",
    "\n",
    "# Implementación del algoritmo Pigeonhole Sort\n",
    "def pigeonhole_sort(a):\n",
    "    my_min = min(a)\n",
    "    my_max = max(a)\n",
    "    size = my_max - my_min + 1\n",
    "    \n",
    "    # Crear los agujeros para el algoritmo\n",
    "    holes = [0] * size\n",
    "\n",
    "    # Llenar los agujeros\n",
    "    for x in a:\n",
    "        holes[x - my_min] += 1\n",
    "\n",
    "    # Poner los elementos de vuelta en la lista original\n",
    "    i = 0\n",
    "    for count in range(size):\n",
    "        while holes[count] > 0:\n",
    "            a[i] = count + my_min\n",
    "            holes[count] -= 1\n",
    "            i += 1\n",
    "\n",
    "# Medir el tiempo de ejecución del algoritmo en 4 ejecuciones\n",
    "execution_times = []\n",
    "for _ in range(4):\n",
    "    # Copiar los datos de la columna Author_Key para no modificar el original\n",
    "    author_list = df['Author_Key'].tolist()\n",
    "\n",
    "    # Medir el tiempo de ejecución\n",
    "    start_time = time.time()\n",
    "    pigeonhole_sort(author_list)\n",
    "    end_time = time.time()\n",
    "\n",
    "    # Guardar el tiempo de ejecución\n",
    "    execution_times.append(end_time - start_time)\n",
    "\n",
    "# Guardar los tiempos de ejecución y el tamaño de los datos\n",
    "execution_summary = pd.DataFrame({\n",
    "    'Execution Time (seconds)': execution_times,\n",
    "    'Data Size': [len(df)] * 4\n",
    "})\n",
    "\n",
    "# Mostrar el resumen de tiempos\n",
    "print(execution_summary)"
   ]
  },
  {
   "cell_type": "markdown",
   "metadata": {},
   "source": [
    "Fecha"
   ]
  },
  {
   "cell_type": "code",
   "execution_count": 30,
   "metadata": {},
   "outputs": [
    {
     "name": "stdout",
     "output_type": "stream",
     "text": [
      "   Execution Time (seconds)  Data Size (filtered)\n",
      "0                  0.003051                  6295\n",
      "1                  0.002969                  6295\n",
      "2                  0.002937                  6295\n",
      "3                  0.002956                  6295\n"
     ]
    }
   ],
   "source": [
    "# Función para estandarizar la columna 'Fecha Publicación'\n",
    "def clean_and_filter_dates(date_str):\n",
    "    try:\n",
    "        # Intentamos convertir a formato de fecha estándar\n",
    "        return pd.to_datetime(date_str, errors='coerce')\n",
    "    except:\n",
    "        # Si el formato es incorrecto o la conversión falla, retornamos NaT\n",
    "        return pd.NaT\n",
    "\n",
    "# Aplicar la función de estandarización a la columna \"Fecha Publicación\"\n",
    "df['Fecha_Publicacion'] = df['Fecha Publicacion'].apply(clean_and_filter_dates)\n",
    "\n",
    "# Medir el tiempo de ejecución para filtrar los datos con fechas válidas en 4 ejecuciones\n",
    "execution_times = []\n",
    "for _ in range(4):\n",
    "    # Medir el tiempo de ejecución\n",
    "    start_time = time.time()\n",
    "\n",
    "    # Filtrar solo los registros con fechas válidas (no NaT)\n",
    "    data_filtered = df.dropna(subset=['Fecha_Publicacion'])\n",
    "\n",
    "    end_time = time.time()\n",
    "\n",
    "    # Guardar el tiempo de ejecución\n",
    "    execution_times.append(end_time - start_time)\n",
    "\n",
    "# Guardar los tiempos de ejecución y el tamaño de los datos después de filtrar\n",
    "execution_summary = pd.DataFrame({\n",
    "    'Execution Time (seconds)': execution_times,\n",
    "    'Data Size (filtered)': [len(data_filtered)] * 4  # Tamaño de los datos filtrados\n",
    "})\n",
    "\n",
    "# Mostrar el resumen de tiempos y el tamaño de los datos filtrados\n",
    "print(execution_summary)\n"
   ]
  }
 ],
 "metadata": {
  "kernelspec": {
   "display_name": ".venv",
   "language": "python",
   "name": "python3"
  },
  "language_info": {
   "codemirror_mode": {
    "name": "ipython",
    "version": 3
   },
   "file_extension": ".py",
   "mimetype": "text/x-python",
   "name": "python",
   "nbconvert_exporter": "python",
   "pygments_lexer": "ipython3",
   "version": "3.13.0"
  }
 },
 "nbformat": 4,
 "nbformat_minor": 2
}
