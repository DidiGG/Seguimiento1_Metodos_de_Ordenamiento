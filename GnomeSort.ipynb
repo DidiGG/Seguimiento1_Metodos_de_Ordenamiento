{
 "cells": [
  {
   "cell_type": "code",
   "execution_count": null,
   "metadata": {},
   "outputs": [],
   "source": [
    "import pandas as pd\n",
    "base_unificada = r'C:\\Users\\jhonr\\OneDrive\\Escritorio\\Materias universidad\\2024-2\\algoritmos\\Seguimiento1_Metodos_de_Ordenamiento\\bases_unificadas_ok.csv'\n",
    "\n",
    "df = pd.read_csv(base_unificada)\n",
    "\n",
    "print(df.head())"
   ]
  },
  {
   "cell_type": "markdown",
   "metadata": {},
   "source": [
    "Importacion de librerias"
   ]
  },
  {
   "cell_type": "code",
   "execution_count": 3,
   "metadata": {},
   "outputs": [],
   "source": [
    "import time\n",
    "import re"
   ]
  },
  {
   "cell_type": "markdown",
   "metadata": {},
   "source": [
    "Codigo adaptado de:\n",
    "- GeeksforGeeks.(2024) https://www.geeksforgeeks.org/gnome-sort-a-stupid-one/?ref=header_outind. Accedido el 07 de octubre de 2024."
   ]
  },
  {
   "cell_type": "markdown",
   "metadata": {},
   "source": [
    "Aplicación de algoritmo Gnome Sort para la Columna ISSN"
   ]
  },
  {
   "cell_type": "code",
   "execution_count": 4,
   "metadata": {},
   "outputs": [
    {
     "name": "stdout",
     "output_type": "stream",
     "text": [
      "Total de caracteres en la columna 'ISSN': 55365\n",
      "Total de elementos en la columna 'ISSN': 5607\n",
      "Tiempos de ejecución: [2.8851943016052246, 2.5499207973480225, 2.49727201461792, 2.60018253326416]\n",
      "Tiempo promedio: 2.633142411708832\n"
     ]
    }
   ],
   "source": [
    "# Función para preparar los datos de la columna 'ISSN'\n",
    "def preparar_datos_ISSN(df, column_name='ISSN'):\n",
    "    # Calcular el total de caracteres y elementos antes de la preparación\n",
    "    total_caracteres = df[column_name].astype(str).str.len().sum()\n",
    "    total_elementos = df[column_name].count()\n",
    "\n",
    "    print(f\"Total de caracteres en la columna '{column_name}': {total_caracteres}\")\n",
    "    print(f\"Total de elementos en la columna '{column_name}': {total_elementos}\")\n",
    "\n",
    "    # Convertir los datos de la columna a numéricos, si es posible\n",
    "    df[column_name] = pd.to_numeric(df[column_name], errors='coerce').fillna(0).astype(int)\n",
    "    \n",
    "    return df\n",
    "\n",
    "# Implementación del algoritmo Gnome Sort\n",
    "def gnomeSort(arr):\n",
    "    n = len(arr) # Obtener la longitud de la lista de entrada\n",
    "    index = 0   \n",
    "     # Bucle que itera hasta que el índice alcanza la longitud de la lista\n",
    "    while index < n:    \n",
    "        # Si el índice está en 0, simplemente lo incrementa para evitar el acceso a un índice negativo\n",
    "        if index == 0:\n",
    "            index += 1\n",
    "        # Si el elemento actual es mayor o igual que el anterior, avanza al siguiente índice\n",
    "        elif arr[index] >= arr[index - 1]:\n",
    "            index += 1\n",
    "        # Si el elemento actual es menor que el anterior, se realiza un intercambio\n",
    "        else:\n",
    "            arr[index], arr[index - 1] = arr[index - 1], arr[index] # Intercambiar el elemento actual con el anterior\n",
    "            index -= 1  # Retroceder al índice anterior para verificar si se necesita más reordenamiento\n",
    "    return arr\n",
    "\n",
    "# Adaptar Gnome Sort para ordenar la columna 'ISSN'\n",
    "def ordenar_gnome_ISSN(df, column_name='ISSN'):\n",
    "    # Convertir la columna a lista\n",
    "    issn_list = df[column_name].tolist()\n",
    "    \n",
    "    # Ordenar usando Gnome Sort\n",
    "    issn_list = gnomeSort(issn_list)\n",
    "    \n",
    "    # Asignar el resultado ordenado a la columna del DataFrame\n",
    "    df[column_name] = issn_list\n",
    "    return df\n",
    "\n",
    "# Preparar los datos de la columna 'ISSN'\n",
    "df_preparado = preparar_datos_ISSN(df.copy())\n",
    "\n",
    "# Ejecutar el proceso 4 veces y calcular los tiempos\n",
    "execution_times = []\n",
    "for _ in range(4):\n",
    "    start_time = time.time()\n",
    "    df_sorted = ordenar_gnome_ISSN(df_preparado.copy())  # Hacer una copia del DataFrame preparado\n",
    "    end_time = time.time()\n",
    "    \n",
    "    execution_time = end_time - start_time\n",
    "    execution_times.append(execution_time)\n",
    "\n",
    "# Calcular el tiempo promedio\n",
    "average_time = sum(execution_times) / len(execution_times)\n",
    "\n",
    "# Imprimir resultados\n",
    "print(\"Tiempos de ejecución:\", execution_times)\n",
    "print(\"Tiempo promedio:\", average_time)"
   ]
  },
  {
   "cell_type": "markdown",
   "metadata": {},
   "source": [
    "Aplicación de algoritmo Gnome Sort para la Columna fecha publicacion "
   ]
  },
  {
   "cell_type": "code",
   "execution_count": 5,
   "metadata": {},
   "outputs": [
    {
     "name": "stdout",
     "output_type": "stream",
     "text": [
      "Total de caracteres en la columna 'Fecha Publicacion': 39617\n",
      "Total de elementos en la columna 'Fecha Publicacion': 7713\n",
      "Tiempos de ejecución: [7.1186363697052, 6.6148741245269775, 6.115253448486328, 6.649417877197266]\n",
      "Tiempo promedio: 6.624545454978943\n"
     ]
    }
   ],
   "source": [
    "# Función para preparar los datos de la columna 'Fecha Publicacion'\n",
    "def preparar_datos_fecha_publicacion(df, column_name='Fecha Publicacion'):\n",
    "    # Calcular el total de caracteres y elementos antes de la preparación\n",
    "    total_caracteres = df[column_name].astype(str).str.len().sum()\n",
    "    total_elementos = df[column_name].count()\n",
    "\n",
    "    print(f\"Total de caracteres en la columna '{column_name}': {total_caracteres}\")\n",
    "    print(f\"Total de elementos en la columna '{column_name}': {total_elementos}\")\n",
    "\n",
    "    # Normalizar los datos extrayendo solo el año\n",
    "    df[column_name] = df[column_name].str.extract(r'(\\d{4})').fillna(0).astype(int)\n",
    "    \n",
    "    return df\n",
    "\n",
    "# Implementación del algoritmo Gnome Sort\n",
    "def gnomeSort(arr):\n",
    "    n = len(arr)\n",
    "    index = 0\n",
    "    while index < n:\n",
    "        if index == 0:\n",
    "            index += 1\n",
    "        elif arr[index] >= arr[index - 1]:\n",
    "            index += 1\n",
    "        else:\n",
    "            arr[index], arr[index - 1] = arr[index - 1], arr[index]\n",
    "            index -= 1\n",
    "    return arr\n",
    "\n",
    "# Adaptar Gnome Sort para ordenar la columna 'Fecha Publicacion'\n",
    "def ordenar_gnome_fecha_publicacion(df, column_name='Fecha Publicacion'):\n",
    "    # Convertir la columna a lista\n",
    "    fecha_list = df[column_name].tolist()\n",
    "    \n",
    "    # Ordenar usando Gnome Sort\n",
    "    fecha_list = gnomeSort(fecha_list)\n",
    "    \n",
    "    # Asignar el resultado ordenado a la columna del DataFrame\n",
    "    df[column_name] = fecha_list\n",
    "    return df\n",
    "\n",
    "# Preparar los datos de la columna 'Fecha Publicacion'\n",
    "df_preparado = preparar_datos_fecha_publicacion(df.copy())\n",
    "\n",
    "# Ejecutar el proceso 4 veces y calcular los tiempos\n",
    "execution_times = []\n",
    "for _ in range(4):\n",
    "    start_time = time.time()\n",
    "    df_sorted = ordenar_gnome_fecha_publicacion(df_preparado.copy())  # Hacer una copia del DataFrame preparado\n",
    "    end_time = time.time()\n",
    "    \n",
    "    execution_time = end_time - start_time\n",
    "    execution_times.append(execution_time)\n",
    "\n",
    "# Calcular el tiempo promedio\n",
    "average_time = sum(execution_times) / len(execution_times)\n",
    "\n",
    "# Imprimir resultados\n",
    "print(\"Tiempos de ejecución:\", execution_times)\n",
    "print(\"Tiempo promedio:\", average_time)"
   ]
  },
  {
   "cell_type": "markdown",
   "metadata": {},
   "source": [
    "Aplicación de algoritmo Gnome Sort para la Columna Autores "
   ]
  },
  {
   "cell_type": "code",
   "execution_count": 6,
   "metadata": {},
   "outputs": [
    {
     "name": "stdout",
     "output_type": "stream",
     "text": [
      "Total de caracteres en la columna 'Autores': 321865\n",
      "Total de elementos en la columna 'Autores': 7458\n",
      "Tiempos de ejecución: [5.1754841804504395, 4.650492906570435, 4.652937650680542, 4.622805595397949]\n",
      "Tiempo promedio: 4.775430083274841\n"
     ]
    }
   ],
   "source": [
    "# Función para preparar los datos de la columna 'Autores'\n",
    "def preparar_datos_autores(df, column_name='Autores'):\n",
    "    # Calcular el total de caracteres y elementos antes de la preparación\n",
    "    total_caracteres = df[column_name].astype(str).str.len().sum()\n",
    "    total_elementos = df[column_name].count()\n",
    "\n",
    "    print(f\"Total de caracteres en la columna '{column_name}': {total_caracteres}\")\n",
    "    print(f\"Total de elementos en la columna '{column_name}': {total_elementos}\")\n",
    "\n",
    "    # Asegurarse de que los datos sean cadenas\n",
    "    df[column_name] = df[column_name].astype(str)\n",
    "    \n",
    "    return df\n",
    "\n",
    "# Implementación del algoritmo Gnome Sort\n",
    "def gnomeSort(arr):\n",
    "    n = len(arr)\n",
    "    index = 0\n",
    "    while index < n:\n",
    "        if index == 0:\n",
    "            index += 1\n",
    "        elif arr[index] >= arr[index - 1]:\n",
    "            index += 1\n",
    "        else:\n",
    "            arr[index], arr[index - 1] = arr[index - 1], arr[index]\n",
    "            index -= 1\n",
    "    return arr\n",
    "\n",
    "# Adaptar Gnome Sort para ordenar la columna 'Autores'\n",
    "def ordenar_gnome_autores(df, column_name='Autores'):\n",
    "    # Convertir la columna a lista\n",
    "    autores_list = df[column_name].tolist()\n",
    "    \n",
    "    # Ordenar usando Gnome Sort\n",
    "    autores_list = gnomeSort(autores_list)\n",
    "    \n",
    "    # Asignar el resultado ordenado a la columna del DataFrame\n",
    "    df[column_name] = autores_list\n",
    "    return df\n",
    "\n",
    "# Preparar los datos de la columna 'Autores'\n",
    "df_preparado = preparar_datos_autores(df.copy())\n",
    "\n",
    "# Ejecutar el proceso 4 veces y calcular los tiempos\n",
    "execution_times = []\n",
    "for _ in range(4):\n",
    "    start_time = time.time()\n",
    "    df_sorted = ordenar_gnome_autores(df_preparado.copy())  # Hacer una copia del DataFrame preparado\n",
    "    end_time = time.time()\n",
    "    \n",
    "    execution_time = end_time - start_time\n",
    "    execution_times.append(execution_time)\n",
    "\n",
    "# Calcular el tiempo promedio\n",
    "average_time = sum(execution_times) / len(execution_times)\n",
    "\n",
    "# Imprimir resultados\n",
    "print(\"Tiempos de ejecución:\", execution_times)\n",
    "print(\"Tiempo promedio:\", average_time)"
   ]
  }
 ],
 "metadata": {
  "kernelspec": {
   "display_name": "Python 3",
   "language": "python",
   "name": "python3"
  },
  "language_info": {
   "codemirror_mode": {
    "name": "ipython",
    "version": 3
   },
   "file_extension": ".py",
   "mimetype": "text/x-python",
   "name": "python",
   "nbconvert_exporter": "python",
   "pygments_lexer": "ipython3",
   "version": "3.12.3"
  }
 },
 "nbformat": 4,
 "nbformat_minor": 2
}
