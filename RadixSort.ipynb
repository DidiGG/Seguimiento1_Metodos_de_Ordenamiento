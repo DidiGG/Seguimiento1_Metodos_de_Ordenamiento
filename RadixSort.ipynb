{
 "cells": [
  {
   "cell_type": "code",
   "execution_count": null,
   "metadata": {},
   "outputs": [],
   "source": [
    "import pandas as pd\n",
    "base_unificada = r'C:\\Users\\nicof\\Documents\\GitHub\\StorifMusic\\Seguimiento1_Metodos_de_Ordenamiento'\n",
    "\n",
    "df = pd.read_csv(base_unificada)\n",
    "\n",
    "print(df.head())"
   ]
  },
  {
   "cell_type": "markdown",
   "metadata": {},
   "source": [
    "Erick"
   ]
  },
  {
   "cell_type": "code",
   "execution_count": null,
   "metadata": {},
   "outputs": [],
   "source": [
    "import pandas as pd\n",
    "base_unificada = r'C:\\Users\\jhonr\\OneDrive\\Documentos\\GitHub\\Seguimiento1_Metodos_de_Ordenamiento\\bases_unificadas_ok.csv'\n",
    "\n",
    "df = pd.read_csv(base_unificada)\n",
    "\n",
    "print(df.head())"
   ]
  }
 ],
 "metadata": {
  "kernelspec": {
   "display_name": "Python 3",
   "language": "python",
   "name": "python3"
  },
  "language_info": {
   "codemirror_mode": {
    "name": "ipython",
    "version": 3
   },
   "file_extension": ".py",
   "mimetype": "text/x-python",
   "name": "python",
   "nbconvert_exporter": "python",
   "pygments_lexer": "ipython3",
   "version": "3.12.5"
  }
 },
 "nbformat": 4,
 "nbformat_minor": 2
}
